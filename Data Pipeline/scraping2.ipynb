{
 "cells": [
  {
   "cell_type": "code",
   "execution_count": 4,
   "metadata": {},
   "outputs": [],
   "source": [
    "# Use BeautifulSoup\n",
    "import pandas as pd\n",
    "from bs4 import BeautifulSoup\n",
    "import requests"
   ]
  },
  {
   "cell_type": "code",
   "execution_count": 5,
   "metadata": {},
   "outputs": [],
   "source": [
    "url = \"https://books.toscrape.com/catalogue/page-1.html\""
   ]
  },
  {
   "cell_type": "code",
   "execution_count": 6,
   "metadata": {},
   "outputs": [
    {
     "name": "stdout",
     "output_type": "stream",
     "text": [
      "<Response [200]>\n"
     ]
    }
   ],
   "source": [
    "page = requests.get(url)\n",
    "print(page)"
   ]
  },
  {
   "cell_type": "code",
   "execution_count": 8,
   "metadata": {},
   "outputs": [
    {
     "name": "stdout",
     "output_type": "stream",
     "text": [
      "\n",
      "    All products | Books to Scrape - Sandbox\n",
      "\n"
     ]
    }
   ],
   "source": [
    "soup = BeautifulSoup(page.text, \"html.parser\")\n",
    "print(soup.title.text)"
   ]
  },
  {
   "cell_type": "code",
   "execution_count": 13,
   "metadata": {},
   "outputs": [
    {
     "name": "stdout",
     "output_type": "stream",
     "text": [
      "Current scraping page: 1\n",
      "Current scraping page: 2\n",
      "Current scraping page: 3\n",
      "Current scraping page: 4\n",
      "Current scraping page: 5\n",
      "Current scraping page: 6\n",
      "Current scraping page: 7\n",
      "Current scraping page: 8\n",
      "Current scraping page: 9\n",
      "Current scraping page: 10\n",
      "Current scraping page: 11\n",
      "Current scraping page: 12\n",
      "Current scraping page: 13\n",
      "Current scraping page: 14\n",
      "Current scraping page: 15\n",
      "Current scraping page: 16\n",
      "Current scraping page: 17\n",
      "Current scraping page: 18\n",
      "Current scraping page: 19\n",
      "Current scraping page: 20\n",
      "Current scraping page: 21\n",
      "Current scraping page: 22\n",
      "Current scraping page: 23\n",
      "Current scraping page: 24\n",
      "Current scraping page: 25\n",
      "Current scraping page: 26\n",
      "Current scraping page: 27\n",
      "Current scraping page: 28\n",
      "Current scraping page: 29\n",
      "Current scraping page: 30\n",
      "Current scraping page: 31\n",
      "Current scraping page: 32\n",
      "Current scraping page: 33\n",
      "Current scraping page: 34\n",
      "Current scraping page: 35\n",
      "Current scraping page: 36\n",
      "Current scraping page: 37\n",
      "Current scraping page: 38\n",
      "Current scraping page: 39\n",
      "Current scraping page: 40\n",
      "Current scraping page: 41\n",
      "Current scraping page: 42\n",
      "Current scraping page: 43\n",
      "Current scraping page: 44\n",
      "Current scraping page: 45\n",
      "Current scraping page: 46\n",
      "Current scraping page: 47\n",
      "Current scraping page: 48\n",
      "Current scraping page: 49\n",
      "Current scraping page: 50\n",
      "Current scraping page: 51\n"
     ]
    }
   ],
   "source": [
    "current_page = 1\n",
    "proceed = True\n",
    "data = []\n",
    "\n",
    "while(proceed):\n",
    "    print(\"Current scraping page:\", str(current_page))\n",
    "    url = \"https://books.toscrape.com/catalogue/page-\"+str(current_page)+\".html\"\n",
    "\n",
    "    page = requests.get(url)\n",
    "\n",
    "    soup = BeautifulSoup(page.text, \"html.parser\")\n",
    "\n",
    "    if soup.title.text == \"404 Not Found\":\n",
    "        proceed = False\n",
    "    else: # Run through every pages\n",
    "        all_books = soup.find_all(\"li\",class_= \"col-xs-6 col-sm-4 col-md-3 col-lg-3\")\n",
    "\n",
    "        for book in all_books:\n",
    "            item = {}\n",
    "\n",
    "            item['Title'] = book.find(\"img\").attrs[\"alt\"]\n",
    "\n",
    "            item['Link'] = book.find(\"a\").attrs[\"href\"]\n",
    "\n",
    "            item['Price'] = book.find(\"p\", class_=\"price_color\").text[2:]\n",
    "\n",
    "            item[\"stock\"] = book.find(\"p\", class_=\"instock availability\").text.strip()\n",
    "\n",
    "            data.append(item)\n",
    "\n",
    "\n",
    "    current_page += 1\n"
   ]
  },
  {
   "cell_type": "code",
   "execution_count": 14,
   "metadata": {},
   "outputs": [],
   "source": [
    "df = pd.DataFrame(data)\n",
    "df.to_excel(\"books.xlsx\")"
   ]
  },
  {
   "cell_type": "code",
   "execution_count": null,
   "metadata": {},
   "outputs": [],
   "source": []
  }
 ],
 "metadata": {
  "kernelspec": {
   "display_name": "Python 3",
   "language": "python",
   "name": "python3"
  },
  "language_info": {
   "codemirror_mode": {
    "name": "ipython",
    "version": 3
   },
   "file_extension": ".py",
   "mimetype": "text/x-python",
   "name": "python",
   "nbconvert_exporter": "python",
   "pygments_lexer": "ipython3",
   "version": "3.10.11"
  }
 },
 "nbformat": 4,
 "nbformat_minor": 2
}
