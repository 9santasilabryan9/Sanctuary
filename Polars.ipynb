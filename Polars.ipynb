{
  "nbformat": 4,
  "nbformat_minor": 0,
  "metadata": {
    "colab": {
      "provenance": []
    },
    "kernelspec": {
      "name": "python3",
      "display_name": "Python 3"
    },
    "language_info": {
      "name": "python"
    }
  },
  "cells": [
    {
      "cell_type": "code",
      "execution_count": 1,
      "metadata": {
        "id": "BxHBvYMEt3eh"
      },
      "outputs": [],
      "source": [
        "# import polars\n",
        "import polars as pl"
      ]
    },
    {
      "cell_type": "code",
      "source": [
        "# read csv file\n",
        "df = pl.read_csv('StudentsPerformance.csv')"
      ],
      "metadata": {
        "id": "UbDc6t9DuM2l"
      },
      "execution_count": 6,
      "outputs": []
    },
    {
      "cell_type": "code",
      "source": [
        "df"
      ],
      "metadata": {
        "colab": {
          "base_uri": "https://localhost:8080/",
          "height": 671
        },
        "id": "PV1opFPouWBI",
        "outputId": "8d227232-115c-4877-8169-f448b4c1929e"
      },
      "execution_count": 7,
      "outputs": [
        {
          "output_type": "execute_result",
          "data": {
            "text/plain": [
              "shape: (1_000, 9)\n",
              "┌──────┬────────┬───────────────┬──────────────┬───┬──────────────┬────────────┬─────────┬─────────┐\n",
              "│ id   ┆ gender ┆ race/ethnicit ┆ parental     ┆ … ┆ test         ┆ math score ┆ reading ┆ writing │\n",
              "│ ---  ┆ ---    ┆ y             ┆ level of     ┆   ┆ preparation  ┆ ---        ┆ score   ┆ score   │\n",
              "│ i64  ┆ str    ┆ ---           ┆ education    ┆   ┆ course       ┆ i64        ┆ ---     ┆ ---     │\n",
              "│      ┆        ┆ str           ┆ ---          ┆   ┆ ---          ┆            ┆ i64     ┆ i64     │\n",
              "│      ┆        ┆               ┆ str          ┆   ┆ str          ┆            ┆         ┆         │\n",
              "╞══════╪════════╪═══════════════╪══════════════╪═══╪══════════════╪════════════╪═════════╪═════════╡\n",
              "│ 1    ┆ female ┆ group B       ┆ bachelor's   ┆ … ┆ none         ┆ 72         ┆ 72      ┆ 74      │\n",
              "│      ┆        ┆               ┆ degree       ┆   ┆              ┆            ┆         ┆         │\n",
              "│ 2    ┆ female ┆ group C       ┆ some college ┆ … ┆ completed    ┆ 69         ┆ 90      ┆ 88      │\n",
              "│ 3    ┆ female ┆ group B       ┆ master's     ┆ … ┆ none         ┆ 90         ┆ 95      ┆ 93      │\n",
              "│      ┆        ┆               ┆ degree       ┆   ┆              ┆            ┆         ┆         │\n",
              "│ 4    ┆ male   ┆ group A       ┆ associate's  ┆ … ┆ none         ┆ 47         ┆ 57      ┆ 44      │\n",
              "│      ┆        ┆               ┆ degree       ┆   ┆              ┆            ┆         ┆         │\n",
              "│ 5    ┆ male   ┆ group C       ┆ some college ┆ … ┆ none         ┆ 76         ┆ 78      ┆ 75      │\n",
              "│ …    ┆ …      ┆ …             ┆ …            ┆ … ┆ …            ┆ …          ┆ …       ┆ …       │\n",
              "│ 996  ┆ female ┆ group E       ┆ master's     ┆ … ┆ completed    ┆ 88         ┆ 99      ┆ 95      │\n",
              "│      ┆        ┆               ┆ degree       ┆   ┆              ┆            ┆         ┆         │\n",
              "│ 997  ┆ male   ┆ group C       ┆ high school  ┆ … ┆ none         ┆ 62         ┆ 55      ┆ 55      │\n",
              "│ 998  ┆ female ┆ group C       ┆ high school  ┆ … ┆ completed    ┆ 59         ┆ 71      ┆ 65      │\n",
              "│ 999  ┆ female ┆ group D       ┆ some college ┆ … ┆ completed    ┆ 68         ┆ 78      ┆ 77      │\n",
              "│ 1000 ┆ female ┆ group D       ┆ some college ┆ … ┆ none         ┆ 77         ┆ 86      ┆ 86      │\n",
              "└──────┴────────┴───────────────┴──────────────┴───┴──────────────┴────────────┴─────────┴─────────┘"
            ],
            "text/html": [
              "<div><style>\n",
              ".dataframe > thead > tr,\n",
              ".dataframe > tbody > tr {\n",
              "  text-align: right;\n",
              "  white-space: pre-wrap;\n",
              "}\n",
              "</style>\n",
              "<small>shape: (1_000, 9)</small><table border=\"1\" class=\"dataframe\"><thead><tr><th>id</th><th>gender</th><th>race/ethnicity</th><th>parental level of education</th><th>lunch</th><th>test preparation course</th><th>math score</th><th>reading score</th><th>writing score</th></tr><tr><td>i64</td><td>str</td><td>str</td><td>str</td><td>str</td><td>str</td><td>i64</td><td>i64</td><td>i64</td></tr></thead><tbody><tr><td>1</td><td>&quot;female&quot;</td><td>&quot;group B&quot;</td><td>&quot;bachelor&#x27;s degree&quot;</td><td>&quot;standard&quot;</td><td>&quot;none&quot;</td><td>72</td><td>72</td><td>74</td></tr><tr><td>2</td><td>&quot;female&quot;</td><td>&quot;group C&quot;</td><td>&quot;some college&quot;</td><td>&quot;standard&quot;</td><td>&quot;completed&quot;</td><td>69</td><td>90</td><td>88</td></tr><tr><td>3</td><td>&quot;female&quot;</td><td>&quot;group B&quot;</td><td>&quot;master&#x27;s degree&quot;</td><td>&quot;standard&quot;</td><td>&quot;none&quot;</td><td>90</td><td>95</td><td>93</td></tr><tr><td>4</td><td>&quot;male&quot;</td><td>&quot;group A&quot;</td><td>&quot;associate&#x27;s degree&quot;</td><td>&quot;free/reduced&quot;</td><td>&quot;none&quot;</td><td>47</td><td>57</td><td>44</td></tr><tr><td>5</td><td>&quot;male&quot;</td><td>&quot;group C&quot;</td><td>&quot;some college&quot;</td><td>&quot;standard&quot;</td><td>&quot;none&quot;</td><td>76</td><td>78</td><td>75</td></tr><tr><td>&hellip;</td><td>&hellip;</td><td>&hellip;</td><td>&hellip;</td><td>&hellip;</td><td>&hellip;</td><td>&hellip;</td><td>&hellip;</td><td>&hellip;</td></tr><tr><td>996</td><td>&quot;female&quot;</td><td>&quot;group E&quot;</td><td>&quot;master&#x27;s degree&quot;</td><td>&quot;standard&quot;</td><td>&quot;completed&quot;</td><td>88</td><td>99</td><td>95</td></tr><tr><td>997</td><td>&quot;male&quot;</td><td>&quot;group C&quot;</td><td>&quot;high school&quot;</td><td>&quot;free/reduced&quot;</td><td>&quot;none&quot;</td><td>62</td><td>55</td><td>55</td></tr><tr><td>998</td><td>&quot;female&quot;</td><td>&quot;group C&quot;</td><td>&quot;high school&quot;</td><td>&quot;free/reduced&quot;</td><td>&quot;completed&quot;</td><td>59</td><td>71</td><td>65</td></tr><tr><td>999</td><td>&quot;female&quot;</td><td>&quot;group D&quot;</td><td>&quot;some college&quot;</td><td>&quot;standard&quot;</td><td>&quot;completed&quot;</td><td>68</td><td>78</td><td>77</td></tr><tr><td>1000</td><td>&quot;female&quot;</td><td>&quot;group D&quot;</td><td>&quot;some college&quot;</td><td>&quot;free/reduced&quot;</td><td>&quot;none&quot;</td><td>77</td><td>86</td><td>86</td></tr></tbody></table></div>"
            ]
          },
          "metadata": {},
          "execution_count": 7
        }
      ]
    },
    {
      "cell_type": "code",
      "source": [
        "# get column names\n",
        "df.columns"
      ],
      "metadata": {
        "colab": {
          "base_uri": "https://localhost:8080/"
        },
        "id": "eBhN-8oWuYFJ",
        "outputId": "f741c14b-f100-4334-a353-65e2c9176c73"
      },
      "execution_count": 8,
      "outputs": [
        {
          "output_type": "execute_result",
          "data": {
            "text/plain": [
              "['id',\n",
              " 'gender',\n",
              " 'race/ethnicity',\n",
              " 'parental level of education',\n",
              " 'lunch',\n",
              " 'test preparation course',\n",
              " 'math score',\n",
              " 'reading score',\n",
              " 'writing score']"
            ]
          },
          "metadata": {},
          "execution_count": 8
        }
      ]
    },
    {
      "cell_type": "code",
      "source": [
        "# select 1 column\n",
        "df.select(pl.col('gender'))\n",
        "\n",
        "# select 2 columns\n",
        "df.select(pl.col(['gender', 'math score']))\n",
        "\n",
        "# select all column\n",
        "df.select(pl.col('*'))"
      ],
      "metadata": {
        "colab": {
          "base_uri": "https://localhost:8080/",
          "height": 671
        },
        "id": "W4iqzuC-uy5S",
        "outputId": "de75b4a9-0509-4e3f-f096-04d228f4a9a9"
      },
      "execution_count": 9,
      "outputs": [
        {
          "output_type": "execute_result",
          "data": {
            "text/plain": [
              "shape: (1_000, 9)\n",
              "┌──────┬────────┬───────────────┬──────────────┬───┬──────────────┬────────────┬─────────┬─────────┐\n",
              "│ id   ┆ gender ┆ race/ethnicit ┆ parental     ┆ … ┆ test         ┆ math score ┆ reading ┆ writing │\n",
              "│ ---  ┆ ---    ┆ y             ┆ level of     ┆   ┆ preparation  ┆ ---        ┆ score   ┆ score   │\n",
              "│ i64  ┆ str    ┆ ---           ┆ education    ┆   ┆ course       ┆ i64        ┆ ---     ┆ ---     │\n",
              "│      ┆        ┆ str           ┆ ---          ┆   ┆ ---          ┆            ┆ i64     ┆ i64     │\n",
              "│      ┆        ┆               ┆ str          ┆   ┆ str          ┆            ┆         ┆         │\n",
              "╞══════╪════════╪═══════════════╪══════════════╪═══╪══════════════╪════════════╪═════════╪═════════╡\n",
              "│ 1    ┆ female ┆ group B       ┆ bachelor's   ┆ … ┆ none         ┆ 72         ┆ 72      ┆ 74      │\n",
              "│      ┆        ┆               ┆ degree       ┆   ┆              ┆            ┆         ┆         │\n",
              "│ 2    ┆ female ┆ group C       ┆ some college ┆ … ┆ completed    ┆ 69         ┆ 90      ┆ 88      │\n",
              "│ 3    ┆ female ┆ group B       ┆ master's     ┆ … ┆ none         ┆ 90         ┆ 95      ┆ 93      │\n",
              "│      ┆        ┆               ┆ degree       ┆   ┆              ┆            ┆         ┆         │\n",
              "│ 4    ┆ male   ┆ group A       ┆ associate's  ┆ … ┆ none         ┆ 47         ┆ 57      ┆ 44      │\n",
              "│      ┆        ┆               ┆ degree       ┆   ┆              ┆            ┆         ┆         │\n",
              "│ 5    ┆ male   ┆ group C       ┆ some college ┆ … ┆ none         ┆ 76         ┆ 78      ┆ 75      │\n",
              "│ …    ┆ …      ┆ …             ┆ …            ┆ … ┆ …            ┆ …          ┆ …       ┆ …       │\n",
              "│ 996  ┆ female ┆ group E       ┆ master's     ┆ … ┆ completed    ┆ 88         ┆ 99      ┆ 95      │\n",
              "│      ┆        ┆               ┆ degree       ┆   ┆              ┆            ┆         ┆         │\n",
              "│ 997  ┆ male   ┆ group C       ┆ high school  ┆ … ┆ none         ┆ 62         ┆ 55      ┆ 55      │\n",
              "│ 998  ┆ female ┆ group C       ┆ high school  ┆ … ┆ completed    ┆ 59         ┆ 71      ┆ 65      │\n",
              "│ 999  ┆ female ┆ group D       ┆ some college ┆ … ┆ completed    ┆ 68         ┆ 78      ┆ 77      │\n",
              "│ 1000 ┆ female ┆ group D       ┆ some college ┆ … ┆ none         ┆ 77         ┆ 86      ┆ 86      │\n",
              "└──────┴────────┴───────────────┴──────────────┴───┴──────────────┴────────────┴─────────┴─────────┘"
            ],
            "text/html": [
              "<div><style>\n",
              ".dataframe > thead > tr,\n",
              ".dataframe > tbody > tr {\n",
              "  text-align: right;\n",
              "  white-space: pre-wrap;\n",
              "}\n",
              "</style>\n",
              "<small>shape: (1_000, 9)</small><table border=\"1\" class=\"dataframe\"><thead><tr><th>id</th><th>gender</th><th>race/ethnicity</th><th>parental level of education</th><th>lunch</th><th>test preparation course</th><th>math score</th><th>reading score</th><th>writing score</th></tr><tr><td>i64</td><td>str</td><td>str</td><td>str</td><td>str</td><td>str</td><td>i64</td><td>i64</td><td>i64</td></tr></thead><tbody><tr><td>1</td><td>&quot;female&quot;</td><td>&quot;group B&quot;</td><td>&quot;bachelor&#x27;s degree&quot;</td><td>&quot;standard&quot;</td><td>&quot;none&quot;</td><td>72</td><td>72</td><td>74</td></tr><tr><td>2</td><td>&quot;female&quot;</td><td>&quot;group C&quot;</td><td>&quot;some college&quot;</td><td>&quot;standard&quot;</td><td>&quot;completed&quot;</td><td>69</td><td>90</td><td>88</td></tr><tr><td>3</td><td>&quot;female&quot;</td><td>&quot;group B&quot;</td><td>&quot;master&#x27;s degree&quot;</td><td>&quot;standard&quot;</td><td>&quot;none&quot;</td><td>90</td><td>95</td><td>93</td></tr><tr><td>4</td><td>&quot;male&quot;</td><td>&quot;group A&quot;</td><td>&quot;associate&#x27;s degree&quot;</td><td>&quot;free/reduced&quot;</td><td>&quot;none&quot;</td><td>47</td><td>57</td><td>44</td></tr><tr><td>5</td><td>&quot;male&quot;</td><td>&quot;group C&quot;</td><td>&quot;some college&quot;</td><td>&quot;standard&quot;</td><td>&quot;none&quot;</td><td>76</td><td>78</td><td>75</td></tr><tr><td>&hellip;</td><td>&hellip;</td><td>&hellip;</td><td>&hellip;</td><td>&hellip;</td><td>&hellip;</td><td>&hellip;</td><td>&hellip;</td><td>&hellip;</td></tr><tr><td>996</td><td>&quot;female&quot;</td><td>&quot;group E&quot;</td><td>&quot;master&#x27;s degree&quot;</td><td>&quot;standard&quot;</td><td>&quot;completed&quot;</td><td>88</td><td>99</td><td>95</td></tr><tr><td>997</td><td>&quot;male&quot;</td><td>&quot;group C&quot;</td><td>&quot;high school&quot;</td><td>&quot;free/reduced&quot;</td><td>&quot;none&quot;</td><td>62</td><td>55</td><td>55</td></tr><tr><td>998</td><td>&quot;female&quot;</td><td>&quot;group C&quot;</td><td>&quot;high school&quot;</td><td>&quot;free/reduced&quot;</td><td>&quot;completed&quot;</td><td>59</td><td>71</td><td>65</td></tr><tr><td>999</td><td>&quot;female&quot;</td><td>&quot;group D&quot;</td><td>&quot;some college&quot;</td><td>&quot;standard&quot;</td><td>&quot;completed&quot;</td><td>68</td><td>78</td><td>77</td></tr><tr><td>1000</td><td>&quot;female&quot;</td><td>&quot;group D&quot;</td><td>&quot;some college&quot;</td><td>&quot;free/reduced&quot;</td><td>&quot;none&quot;</td><td>77</td><td>86</td><td>86</td></tr></tbody></table></div>"
            ]
          },
          "metadata": {},
          "execution_count": 9
        }
      ]
    },
    {
      "cell_type": "code",
      "source": [
        "df.head()"
      ],
      "metadata": {
        "colab": {
          "base_uri": "https://localhost:8080/",
          "height": 396
        },
        "id": "zOJoVyEUvE-9",
        "outputId": "02167312-997c-49b5-ea04-070459f8b6f8"
      },
      "execution_count": 10,
      "outputs": [
        {
          "output_type": "execute_result",
          "data": {
            "text/plain": [
              "shape: (5, 9)\n",
              "┌─────┬────────┬───────────────┬───────────────┬───┬──────────────┬────────────┬─────────┬─────────┐\n",
              "│ id  ┆ gender ┆ race/ethnicit ┆ parental      ┆ … ┆ test         ┆ math score ┆ reading ┆ writing │\n",
              "│ --- ┆ ---    ┆ y             ┆ level of      ┆   ┆ preparation  ┆ ---        ┆ score   ┆ score   │\n",
              "│ i64 ┆ str    ┆ ---           ┆ education     ┆   ┆ course       ┆ i64        ┆ ---     ┆ ---     │\n",
              "│     ┆        ┆ str           ┆ ---           ┆   ┆ ---          ┆            ┆ i64     ┆ i64     │\n",
              "│     ┆        ┆               ┆ str           ┆   ┆ str          ┆            ┆         ┆         │\n",
              "╞═════╪════════╪═══════════════╪═══════════════╪═══╪══════════════╪════════════╪═════════╪═════════╡\n",
              "│ 1   ┆ female ┆ group B       ┆ bachelor's    ┆ … ┆ none         ┆ 72         ┆ 72      ┆ 74      │\n",
              "│     ┆        ┆               ┆ degree        ┆   ┆              ┆            ┆         ┆         │\n",
              "│ 2   ┆ female ┆ group C       ┆ some college  ┆ … ┆ completed    ┆ 69         ┆ 90      ┆ 88      │\n",
              "│ 3   ┆ female ┆ group B       ┆ master's      ┆ … ┆ none         ┆ 90         ┆ 95      ┆ 93      │\n",
              "│     ┆        ┆               ┆ degree        ┆   ┆              ┆            ┆         ┆         │\n",
              "│ 4   ┆ male   ┆ group A       ┆ associate's   ┆ … ┆ none         ┆ 47         ┆ 57      ┆ 44      │\n",
              "│     ┆        ┆               ┆ degree        ┆   ┆              ┆            ┆         ┆         │\n",
              "│ 5   ┆ male   ┆ group C       ┆ some college  ┆ … ┆ none         ┆ 76         ┆ 78      ┆ 75      │\n",
              "└─────┴────────┴───────────────┴───────────────┴───┴──────────────┴────────────┴─────────┴─────────┘"
            ],
            "text/html": [
              "<div><style>\n",
              ".dataframe > thead > tr,\n",
              ".dataframe > tbody > tr {\n",
              "  text-align: right;\n",
              "  white-space: pre-wrap;\n",
              "}\n",
              "</style>\n",
              "<small>shape: (5, 9)</small><table border=\"1\" class=\"dataframe\"><thead><tr><th>id</th><th>gender</th><th>race/ethnicity</th><th>parental level of education</th><th>lunch</th><th>test preparation course</th><th>math score</th><th>reading score</th><th>writing score</th></tr><tr><td>i64</td><td>str</td><td>str</td><td>str</td><td>str</td><td>str</td><td>i64</td><td>i64</td><td>i64</td></tr></thead><tbody><tr><td>1</td><td>&quot;female&quot;</td><td>&quot;group B&quot;</td><td>&quot;bachelor&#x27;s degree&quot;</td><td>&quot;standard&quot;</td><td>&quot;none&quot;</td><td>72</td><td>72</td><td>74</td></tr><tr><td>2</td><td>&quot;female&quot;</td><td>&quot;group C&quot;</td><td>&quot;some college&quot;</td><td>&quot;standard&quot;</td><td>&quot;completed&quot;</td><td>69</td><td>90</td><td>88</td></tr><tr><td>3</td><td>&quot;female&quot;</td><td>&quot;group B&quot;</td><td>&quot;master&#x27;s degree&quot;</td><td>&quot;standard&quot;</td><td>&quot;none&quot;</td><td>90</td><td>95</td><td>93</td></tr><tr><td>4</td><td>&quot;male&quot;</td><td>&quot;group A&quot;</td><td>&quot;associate&#x27;s degree&quot;</td><td>&quot;free/reduced&quot;</td><td>&quot;none&quot;</td><td>47</td><td>57</td><td>44</td></tr><tr><td>5</td><td>&quot;male&quot;</td><td>&quot;group C&quot;</td><td>&quot;some college&quot;</td><td>&quot;standard&quot;</td><td>&quot;none&quot;</td><td>76</td><td>78</td><td>75</td></tr></tbody></table></div>"
            ]
          },
          "metadata": {},
          "execution_count": 10
        }
      ]
    },
    {
      "cell_type": "code",
      "source": [
        "# create new column\n",
        "df.with_columns((pl.col('math score') + pl.col('reading score')).alias('sum'))"
      ],
      "metadata": {
        "colab": {
          "base_uri": "https://localhost:8080/",
          "height": 671
        },
        "id": "_md-4dt1vG-I",
        "outputId": "64e892ad-7c64-4ca4-8aee-ff0a53076a8b"
      },
      "execution_count": 12,
      "outputs": [
        {
          "output_type": "execute_result",
          "data": {
            "text/plain": [
              "shape: (1_000, 10)\n",
              "┌──────┬────────┬────────────────┬────────────────┬───┬────────────┬─────────┬───────────────┬─────┐\n",
              "│ id   ┆ gender ┆ race/ethnicity ┆ parental level ┆ … ┆ math score ┆ reading ┆ writing score ┆ sum │\n",
              "│ ---  ┆ ---    ┆ ---            ┆ of education   ┆   ┆ ---        ┆ score   ┆ ---           ┆ --- │\n",
              "│ i64  ┆ str    ┆ str            ┆ ---            ┆   ┆ i64        ┆ ---     ┆ i64           ┆ i64 │\n",
              "│      ┆        ┆                ┆ str            ┆   ┆            ┆ i64     ┆               ┆     │\n",
              "╞══════╪════════╪════════════════╪════════════════╪═══╪════════════╪═════════╪═══════════════╪═════╡\n",
              "│ 1    ┆ female ┆ group B        ┆ bachelor's     ┆ … ┆ 72         ┆ 72      ┆ 74            ┆ 144 │\n",
              "│      ┆        ┆                ┆ degree         ┆   ┆            ┆         ┆               ┆     │\n",
              "│ 2    ┆ female ┆ group C        ┆ some college   ┆ … ┆ 69         ┆ 90      ┆ 88            ┆ 159 │\n",
              "│ 3    ┆ female ┆ group B        ┆ master's       ┆ … ┆ 90         ┆ 95      ┆ 93            ┆ 185 │\n",
              "│      ┆        ┆                ┆ degree         ┆   ┆            ┆         ┆               ┆     │\n",
              "│ 4    ┆ male   ┆ group A        ┆ associate's    ┆ … ┆ 47         ┆ 57      ┆ 44            ┆ 104 │\n",
              "│      ┆        ┆                ┆ degree         ┆   ┆            ┆         ┆               ┆     │\n",
              "│ 5    ┆ male   ┆ group C        ┆ some college   ┆ … ┆ 76         ┆ 78      ┆ 75            ┆ 154 │\n",
              "│ …    ┆ …      ┆ …              ┆ …              ┆ … ┆ …          ┆ …       ┆ …             ┆ …   │\n",
              "│ 996  ┆ female ┆ group E        ┆ master's       ┆ … ┆ 88         ┆ 99      ┆ 95            ┆ 187 │\n",
              "│      ┆        ┆                ┆ degree         ┆   ┆            ┆         ┆               ┆     │\n",
              "│ 997  ┆ male   ┆ group C        ┆ high school    ┆ … ┆ 62         ┆ 55      ┆ 55            ┆ 117 │\n",
              "│ 998  ┆ female ┆ group C        ┆ high school    ┆ … ┆ 59         ┆ 71      ┆ 65            ┆ 130 │\n",
              "│ 999  ┆ female ┆ group D        ┆ some college   ┆ … ┆ 68         ┆ 78      ┆ 77            ┆ 146 │\n",
              "│ 1000 ┆ female ┆ group D        ┆ some college   ┆ … ┆ 77         ┆ 86      ┆ 86            ┆ 163 │\n",
              "└──────┴────────┴────────────────┴────────────────┴───┴────────────┴─────────┴───────────────┴─────┘"
            ],
            "text/html": [
              "<div><style>\n",
              ".dataframe > thead > tr,\n",
              ".dataframe > tbody > tr {\n",
              "  text-align: right;\n",
              "  white-space: pre-wrap;\n",
              "}\n",
              "</style>\n",
              "<small>shape: (1_000, 10)</small><table border=\"1\" class=\"dataframe\"><thead><tr><th>id</th><th>gender</th><th>race/ethnicity</th><th>parental level of education</th><th>lunch</th><th>test preparation course</th><th>math score</th><th>reading score</th><th>writing score</th><th>sum</th></tr><tr><td>i64</td><td>str</td><td>str</td><td>str</td><td>str</td><td>str</td><td>i64</td><td>i64</td><td>i64</td><td>i64</td></tr></thead><tbody><tr><td>1</td><td>&quot;female&quot;</td><td>&quot;group B&quot;</td><td>&quot;bachelor&#x27;s degree&quot;</td><td>&quot;standard&quot;</td><td>&quot;none&quot;</td><td>72</td><td>72</td><td>74</td><td>144</td></tr><tr><td>2</td><td>&quot;female&quot;</td><td>&quot;group C&quot;</td><td>&quot;some college&quot;</td><td>&quot;standard&quot;</td><td>&quot;completed&quot;</td><td>69</td><td>90</td><td>88</td><td>159</td></tr><tr><td>3</td><td>&quot;female&quot;</td><td>&quot;group B&quot;</td><td>&quot;master&#x27;s degree&quot;</td><td>&quot;standard&quot;</td><td>&quot;none&quot;</td><td>90</td><td>95</td><td>93</td><td>185</td></tr><tr><td>4</td><td>&quot;male&quot;</td><td>&quot;group A&quot;</td><td>&quot;associate&#x27;s degree&quot;</td><td>&quot;free/reduced&quot;</td><td>&quot;none&quot;</td><td>47</td><td>57</td><td>44</td><td>104</td></tr><tr><td>5</td><td>&quot;male&quot;</td><td>&quot;group C&quot;</td><td>&quot;some college&quot;</td><td>&quot;standard&quot;</td><td>&quot;none&quot;</td><td>76</td><td>78</td><td>75</td><td>154</td></tr><tr><td>&hellip;</td><td>&hellip;</td><td>&hellip;</td><td>&hellip;</td><td>&hellip;</td><td>&hellip;</td><td>&hellip;</td><td>&hellip;</td><td>&hellip;</td><td>&hellip;</td></tr><tr><td>996</td><td>&quot;female&quot;</td><td>&quot;group E&quot;</td><td>&quot;master&#x27;s degree&quot;</td><td>&quot;standard&quot;</td><td>&quot;completed&quot;</td><td>88</td><td>99</td><td>95</td><td>187</td></tr><tr><td>997</td><td>&quot;male&quot;</td><td>&quot;group C&quot;</td><td>&quot;high school&quot;</td><td>&quot;free/reduced&quot;</td><td>&quot;none&quot;</td><td>62</td><td>55</td><td>55</td><td>117</td></tr><tr><td>998</td><td>&quot;female&quot;</td><td>&quot;group C&quot;</td><td>&quot;high school&quot;</td><td>&quot;free/reduced&quot;</td><td>&quot;completed&quot;</td><td>59</td><td>71</td><td>65</td><td>130</td></tr><tr><td>999</td><td>&quot;female&quot;</td><td>&quot;group D&quot;</td><td>&quot;some college&quot;</td><td>&quot;standard&quot;</td><td>&quot;completed&quot;</td><td>68</td><td>78</td><td>77</td><td>146</td></tr><tr><td>1000</td><td>&quot;female&quot;</td><td>&quot;group D&quot;</td><td>&quot;some college&quot;</td><td>&quot;free/reduced&quot;</td><td>&quot;none&quot;</td><td>77</td><td>86</td><td>86</td><td>163</td></tr></tbody></table></div>"
            ]
          },
          "metadata": {},
          "execution_count": 12
        }
      ]
    },
    {
      "cell_type": "code",
      "source": [
        "# filtering\n",
        "df.filter(pl.col('gender') == 'female')\n",
        "\n"
      ],
      "metadata": {
        "colab": {
          "base_uri": "https://localhost:8080/",
          "height": 671
        },
        "id": "JMLvAuZTvfVA",
        "outputId": "471b15f7-e016-46d4-9764-f3e11ffb7377"
      },
      "execution_count": 13,
      "outputs": [
        {
          "output_type": "execute_result",
          "data": {
            "text/plain": [
              "shape: (518, 9)\n",
              "┌──────┬────────┬───────────────┬──────────────┬───┬──────────────┬────────────┬─────────┬─────────┐\n",
              "│ id   ┆ gender ┆ race/ethnicit ┆ parental     ┆ … ┆ test         ┆ math score ┆ reading ┆ writing │\n",
              "│ ---  ┆ ---    ┆ y             ┆ level of     ┆   ┆ preparation  ┆ ---        ┆ score   ┆ score   │\n",
              "│ i64  ┆ str    ┆ ---           ┆ education    ┆   ┆ course       ┆ i64        ┆ ---     ┆ ---     │\n",
              "│      ┆        ┆ str           ┆ ---          ┆   ┆ ---          ┆            ┆ i64     ┆ i64     │\n",
              "│      ┆        ┆               ┆ str          ┆   ┆ str          ┆            ┆         ┆         │\n",
              "╞══════╪════════╪═══════════════╪══════════════╪═══╪══════════════╪════════════╪═════════╪═════════╡\n",
              "│ 1    ┆ female ┆ group B       ┆ bachelor's   ┆ … ┆ none         ┆ 72         ┆ 72      ┆ 74      │\n",
              "│      ┆        ┆               ┆ degree       ┆   ┆              ┆            ┆         ┆         │\n",
              "│ 2    ┆ female ┆ group C       ┆ some college ┆ … ┆ completed    ┆ 69         ┆ 90      ┆ 88      │\n",
              "│ 3    ┆ female ┆ group B       ┆ master's     ┆ … ┆ none         ┆ 90         ┆ 95      ┆ 93      │\n",
              "│      ┆        ┆               ┆ degree       ┆   ┆              ┆            ┆         ┆         │\n",
              "│ 6    ┆ female ┆ group B       ┆ associate's  ┆ … ┆ none         ┆ 71         ┆ 83      ┆ 78      │\n",
              "│      ┆        ┆               ┆ degree       ┆   ┆              ┆            ┆         ┆         │\n",
              "│ 7    ┆ female ┆ group B       ┆ some college ┆ … ┆ completed    ┆ 88         ┆ 95      ┆ 92      │\n",
              "│ …    ┆ …      ┆ …             ┆ …            ┆ … ┆ …            ┆ …          ┆ …       ┆ …       │\n",
              "│ 994  ┆ female ┆ group D       ┆ bachelor's   ┆ … ┆ none         ┆ 62         ┆ 72      ┆ 74      │\n",
              "│      ┆        ┆               ┆ degree       ┆   ┆              ┆            ┆         ┆         │\n",
              "│ 996  ┆ female ┆ group E       ┆ master's     ┆ … ┆ completed    ┆ 88         ┆ 99      ┆ 95      │\n",
              "│      ┆        ┆               ┆ degree       ┆   ┆              ┆            ┆         ┆         │\n",
              "│ 998  ┆ female ┆ group C       ┆ high school  ┆ … ┆ completed    ┆ 59         ┆ 71      ┆ 65      │\n",
              "│ 999  ┆ female ┆ group D       ┆ some college ┆ … ┆ completed    ┆ 68         ┆ 78      ┆ 77      │\n",
              "│ 1000 ┆ female ┆ group D       ┆ some college ┆ … ┆ none         ┆ 77         ┆ 86      ┆ 86      │\n",
              "└──────┴────────┴───────────────┴──────────────┴───┴──────────────┴────────────┴─────────┴─────────┘"
            ],
            "text/html": [
              "<div><style>\n",
              ".dataframe > thead > tr,\n",
              ".dataframe > tbody > tr {\n",
              "  text-align: right;\n",
              "  white-space: pre-wrap;\n",
              "}\n",
              "</style>\n",
              "<small>shape: (518, 9)</small><table border=\"1\" class=\"dataframe\"><thead><tr><th>id</th><th>gender</th><th>race/ethnicity</th><th>parental level of education</th><th>lunch</th><th>test preparation course</th><th>math score</th><th>reading score</th><th>writing score</th></tr><tr><td>i64</td><td>str</td><td>str</td><td>str</td><td>str</td><td>str</td><td>i64</td><td>i64</td><td>i64</td></tr></thead><tbody><tr><td>1</td><td>&quot;female&quot;</td><td>&quot;group B&quot;</td><td>&quot;bachelor&#x27;s degree&quot;</td><td>&quot;standard&quot;</td><td>&quot;none&quot;</td><td>72</td><td>72</td><td>74</td></tr><tr><td>2</td><td>&quot;female&quot;</td><td>&quot;group C&quot;</td><td>&quot;some college&quot;</td><td>&quot;standard&quot;</td><td>&quot;completed&quot;</td><td>69</td><td>90</td><td>88</td></tr><tr><td>3</td><td>&quot;female&quot;</td><td>&quot;group B&quot;</td><td>&quot;master&#x27;s degree&quot;</td><td>&quot;standard&quot;</td><td>&quot;none&quot;</td><td>90</td><td>95</td><td>93</td></tr><tr><td>6</td><td>&quot;female&quot;</td><td>&quot;group B&quot;</td><td>&quot;associate&#x27;s degree&quot;</td><td>&quot;standard&quot;</td><td>&quot;none&quot;</td><td>71</td><td>83</td><td>78</td></tr><tr><td>7</td><td>&quot;female&quot;</td><td>&quot;group B&quot;</td><td>&quot;some college&quot;</td><td>&quot;standard&quot;</td><td>&quot;completed&quot;</td><td>88</td><td>95</td><td>92</td></tr><tr><td>&hellip;</td><td>&hellip;</td><td>&hellip;</td><td>&hellip;</td><td>&hellip;</td><td>&hellip;</td><td>&hellip;</td><td>&hellip;</td><td>&hellip;</td></tr><tr><td>994</td><td>&quot;female&quot;</td><td>&quot;group D&quot;</td><td>&quot;bachelor&#x27;s degree&quot;</td><td>&quot;free/reduced&quot;</td><td>&quot;none&quot;</td><td>62</td><td>72</td><td>74</td></tr><tr><td>996</td><td>&quot;female&quot;</td><td>&quot;group E&quot;</td><td>&quot;master&#x27;s degree&quot;</td><td>&quot;standard&quot;</td><td>&quot;completed&quot;</td><td>88</td><td>99</td><td>95</td></tr><tr><td>998</td><td>&quot;female&quot;</td><td>&quot;group C&quot;</td><td>&quot;high school&quot;</td><td>&quot;free/reduced&quot;</td><td>&quot;completed&quot;</td><td>59</td><td>71</td><td>65</td></tr><tr><td>999</td><td>&quot;female&quot;</td><td>&quot;group D&quot;</td><td>&quot;some college&quot;</td><td>&quot;standard&quot;</td><td>&quot;completed&quot;</td><td>68</td><td>78</td><td>77</td></tr><tr><td>1000</td><td>&quot;female&quot;</td><td>&quot;group D&quot;</td><td>&quot;some college&quot;</td><td>&quot;free/reduced&quot;</td><td>&quot;none&quot;</td><td>77</td><td>86</td><td>86</td></tr></tbody></table></div>"
            ]
          },
          "metadata": {},
          "execution_count": 13
        }
      ]
    },
    {
      "cell_type": "code",
      "source": [
        "# multiple filtering\n",
        "df.filter((pl.col('gender') == 'female') & (pl.col('race/ethnicity') == 'group B'))"
      ],
      "metadata": {
        "colab": {
          "base_uri": "https://localhost:8080/",
          "height": 671
        },
        "id": "PVoPqWP3v34N",
        "outputId": "2b8eabbc-1548-47c4-f749-aafdc71be77e"
      },
      "execution_count": 15,
      "outputs": [
        {
          "output_type": "execute_result",
          "data": {
            "text/plain": [
              "shape: (104, 9)\n",
              "┌─────┬────────┬───────────────┬───────────────┬───┬──────────────┬────────────┬─────────┬─────────┐\n",
              "│ id  ┆ gender ┆ race/ethnicit ┆ parental      ┆ … ┆ test         ┆ math score ┆ reading ┆ writing │\n",
              "│ --- ┆ ---    ┆ y             ┆ level of      ┆   ┆ preparation  ┆ ---        ┆ score   ┆ score   │\n",
              "│ i64 ┆ str    ┆ ---           ┆ education     ┆   ┆ course       ┆ i64        ┆ ---     ┆ ---     │\n",
              "│     ┆        ┆ str           ┆ ---           ┆   ┆ ---          ┆            ┆ i64     ┆ i64     │\n",
              "│     ┆        ┆               ┆ str           ┆   ┆ str          ┆            ┆         ┆         │\n",
              "╞═════╪════════╪═══════════════╪═══════════════╪═══╪══════════════╪════════════╪═════════╪═════════╡\n",
              "│ 1   ┆ female ┆ group B       ┆ bachelor's    ┆ … ┆ none         ┆ 72         ┆ 72      ┆ 74      │\n",
              "│     ┆        ┆               ┆ degree        ┆   ┆              ┆            ┆         ┆         │\n",
              "│ 3   ┆ female ┆ group B       ┆ master's      ┆ … ┆ none         ┆ 90         ┆ 95      ┆ 93      │\n",
              "│     ┆        ┆               ┆ degree        ┆   ┆              ┆            ┆         ┆         │\n",
              "│ 6   ┆ female ┆ group B       ┆ associate's   ┆ … ┆ none         ┆ 71         ┆ 83      ┆ 78      │\n",
              "│     ┆        ┆               ┆ degree        ┆   ┆              ┆            ┆         ┆         │\n",
              "│ 7   ┆ female ┆ group B       ┆ some college  ┆ … ┆ completed    ┆ 88         ┆ 95      ┆ 92      │\n",
              "│ 10  ┆ female ┆ group B       ┆ high school   ┆ … ┆ none         ┆ 38         ┆ 60      ┆ 50      │\n",
              "│ …   ┆ …      ┆ …             ┆ …             ┆ … ┆ …            ┆ …          ┆ …       ┆ …       │\n",
              "│ 924 ┆ female ┆ group B       ┆ associate's   ┆ … ┆ none         ┆ 54         ┆ 65      ┆ 65      │\n",
              "│     ┆        ┆               ┆ degree        ┆   ┆              ┆            ┆         ┆         │\n",
              "│ 945 ┆ female ┆ group B       ┆ high school   ┆ … ┆ none         ┆ 58         ┆ 68      ┆ 61      │\n",
              "│ 970 ┆ female ┆ group B       ┆ bachelor's    ┆ … ┆ none         ┆ 75         ┆ 84      ┆ 80      │\n",
              "│     ┆        ┆               ┆ degree        ┆   ┆              ┆            ┆         ┆         │\n",
              "│ 981 ┆ female ┆ group B       ┆ high school   ┆ … ┆ none         ┆ 8          ┆ 24      ┆ 23      │\n",
              "│ 992 ┆ female ┆ group B       ┆ some high     ┆ … ┆ completed    ┆ 65         ┆ 82      ┆ 78      │\n",
              "│     ┆        ┆               ┆ school        ┆   ┆              ┆            ┆         ┆         │\n",
              "└─────┴────────┴───────────────┴───────────────┴───┴──────────────┴────────────┴─────────┴─────────┘"
            ],
            "text/html": [
              "<div><style>\n",
              ".dataframe > thead > tr,\n",
              ".dataframe > tbody > tr {\n",
              "  text-align: right;\n",
              "  white-space: pre-wrap;\n",
              "}\n",
              "</style>\n",
              "<small>shape: (104, 9)</small><table border=\"1\" class=\"dataframe\"><thead><tr><th>id</th><th>gender</th><th>race/ethnicity</th><th>parental level of education</th><th>lunch</th><th>test preparation course</th><th>math score</th><th>reading score</th><th>writing score</th></tr><tr><td>i64</td><td>str</td><td>str</td><td>str</td><td>str</td><td>str</td><td>i64</td><td>i64</td><td>i64</td></tr></thead><tbody><tr><td>1</td><td>&quot;female&quot;</td><td>&quot;group B&quot;</td><td>&quot;bachelor&#x27;s degree&quot;</td><td>&quot;standard&quot;</td><td>&quot;none&quot;</td><td>72</td><td>72</td><td>74</td></tr><tr><td>3</td><td>&quot;female&quot;</td><td>&quot;group B&quot;</td><td>&quot;master&#x27;s degree&quot;</td><td>&quot;standard&quot;</td><td>&quot;none&quot;</td><td>90</td><td>95</td><td>93</td></tr><tr><td>6</td><td>&quot;female&quot;</td><td>&quot;group B&quot;</td><td>&quot;associate&#x27;s degree&quot;</td><td>&quot;standard&quot;</td><td>&quot;none&quot;</td><td>71</td><td>83</td><td>78</td></tr><tr><td>7</td><td>&quot;female&quot;</td><td>&quot;group B&quot;</td><td>&quot;some college&quot;</td><td>&quot;standard&quot;</td><td>&quot;completed&quot;</td><td>88</td><td>95</td><td>92</td></tr><tr><td>10</td><td>&quot;female&quot;</td><td>&quot;group B&quot;</td><td>&quot;high school&quot;</td><td>&quot;free/reduced&quot;</td><td>&quot;none&quot;</td><td>38</td><td>60</td><td>50</td></tr><tr><td>&hellip;</td><td>&hellip;</td><td>&hellip;</td><td>&hellip;</td><td>&hellip;</td><td>&hellip;</td><td>&hellip;</td><td>&hellip;</td><td>&hellip;</td></tr><tr><td>924</td><td>&quot;female&quot;</td><td>&quot;group B&quot;</td><td>&quot;associate&#x27;s degree&quot;</td><td>&quot;free/reduced&quot;</td><td>&quot;none&quot;</td><td>54</td><td>65</td><td>65</td></tr><tr><td>945</td><td>&quot;female&quot;</td><td>&quot;group B&quot;</td><td>&quot;high school&quot;</td><td>&quot;standard&quot;</td><td>&quot;none&quot;</td><td>58</td><td>68</td><td>61</td></tr><tr><td>970</td><td>&quot;female&quot;</td><td>&quot;group B&quot;</td><td>&quot;bachelor&#x27;s degree&quot;</td><td>&quot;standard&quot;</td><td>&quot;none&quot;</td><td>75</td><td>84</td><td>80</td></tr><tr><td>981</td><td>&quot;female&quot;</td><td>&quot;group B&quot;</td><td>&quot;high school&quot;</td><td>&quot;free/reduced&quot;</td><td>&quot;none&quot;</td><td>8</td><td>24</td><td>23</td></tr><tr><td>992</td><td>&quot;female&quot;</td><td>&quot;group B&quot;</td><td>&quot;some high school&quot;</td><td>&quot;standard&quot;</td><td>&quot;completed&quot;</td><td>65</td><td>82</td><td>78</td></tr></tbody></table></div>"
            ]
          },
          "metadata": {},
          "execution_count": 15
        }
      ]
    },
    {
      "cell_type": "code",
      "source": [
        "print(df)"
      ],
      "metadata": {
        "colab": {
          "base_uri": "https://localhost:8080/"
        },
        "id": "_Nq6oNzewHst",
        "outputId": "fc9455f6-1d5d-410b-b59b-cf1eabad1f18"
      },
      "execution_count": 20,
      "outputs": [
        {
          "output_type": "stream",
          "name": "stdout",
          "text": [
            "shape: (1_000, 9)\n",
            "┌──────┬────────┬───────────────┬──────────────┬───┬──────────────┬────────────┬─────────┬─────────┐\n",
            "│ id   ┆ gender ┆ race/ethnicit ┆ parental     ┆ … ┆ test         ┆ math score ┆ reading ┆ writing │\n",
            "│ ---  ┆ ---    ┆ y             ┆ level of     ┆   ┆ preparation  ┆ ---        ┆ score   ┆ score   │\n",
            "│ i64  ┆ str    ┆ ---           ┆ education    ┆   ┆ course       ┆ i64        ┆ ---     ┆ ---     │\n",
            "│      ┆        ┆ str           ┆ ---          ┆   ┆ ---          ┆            ┆ i64     ┆ i64     │\n",
            "│      ┆        ┆               ┆ str          ┆   ┆ str          ┆            ┆         ┆         │\n",
            "╞══════╪════════╪═══════════════╪══════════════╪═══╪══════════════╪════════════╪═════════╪═════════╡\n",
            "│ 1    ┆ female ┆ group B       ┆ bachelor's   ┆ … ┆ none         ┆ 72         ┆ 72      ┆ 74      │\n",
            "│      ┆        ┆               ┆ degree       ┆   ┆              ┆            ┆         ┆         │\n",
            "│ 2    ┆ female ┆ group C       ┆ some college ┆ … ┆ completed    ┆ 69         ┆ 90      ┆ 88      │\n",
            "│ 3    ┆ female ┆ group B       ┆ master's     ┆ … ┆ none         ┆ 90         ┆ 95      ┆ 93      │\n",
            "│      ┆        ┆               ┆ degree       ┆   ┆              ┆            ┆         ┆         │\n",
            "│ 4    ┆ male   ┆ group A       ┆ associate's  ┆ … ┆ none         ┆ 47         ┆ 57      ┆ 44      │\n",
            "│      ┆        ┆               ┆ degree       ┆   ┆              ┆            ┆         ┆         │\n",
            "│ 5    ┆ male   ┆ group C       ┆ some college ┆ … ┆ none         ┆ 76         ┆ 78      ┆ 75      │\n",
            "│ …    ┆ …      ┆ …             ┆ …            ┆ … ┆ …            ┆ …          ┆ …       ┆ …       │\n",
            "│ 996  ┆ female ┆ group E       ┆ master's     ┆ … ┆ completed    ┆ 88         ┆ 99      ┆ 95      │\n",
            "│      ┆        ┆               ┆ degree       ┆   ┆              ┆            ┆         ┆         │\n",
            "│ 997  ┆ male   ┆ group C       ┆ high school  ┆ … ┆ none         ┆ 62         ┆ 55      ┆ 55      │\n",
            "│ 998  ┆ female ┆ group C       ┆ high school  ┆ … ┆ completed    ┆ 59         ┆ 71      ┆ 65      │\n",
            "│ 999  ┆ female ┆ group D       ┆ some college ┆ … ┆ completed    ┆ 68         ┆ 78      ┆ 77      │\n",
            "│ 1000 ┆ female ┆ group D       ┆ some college ┆ … ┆ none         ┆ 77         ┆ 86      ┆ 86      │\n",
            "└──────┴────────┴───────────────┴──────────────┴───┴──────────────┴────────────┴─────────┴─────────┘\n"
          ]
        }
      ]
    },
    {
      "cell_type": "code",
      "source": [
        "# group data\n",
        "df.group_by(\"race/ethnicity\").agg(pl.count()) # <- use pl.all() for a count"
      ],
      "metadata": {
        "colab": {
          "base_uri": "https://localhost:8080/",
          "height": 310
        },
        "id": "eOcD5vRiwY3P",
        "outputId": "72995752-1aff-4a06-fe23-7896d8cef8e5"
      },
      "execution_count": 21,
      "outputs": [
        {
          "output_type": "stream",
          "name": "stderr",
          "text": [
            "<ipython-input-21-d729af8bcff7>:2: DeprecationWarning: `pl.count()` is deprecated. Please use `pl.len()` instead.\n",
            "  df.group_by(\"race/ethnicity\").agg(pl.count()) # <- use pl.all() for a count\n"
          ]
        },
        {
          "output_type": "execute_result",
          "data": {
            "text/plain": [
              "shape: (5, 2)\n",
              "┌────────────────┬───────┐\n",
              "│ race/ethnicity ┆ count │\n",
              "│ ---            ┆ ---   │\n",
              "│ str            ┆ u32   │\n",
              "╞════════════════╪═══════╡\n",
              "│ group A        ┆ 89    │\n",
              "│ group B        ┆ 190   │\n",
              "│ group C        ┆ 319   │\n",
              "│ group E        ┆ 140   │\n",
              "│ group D        ┆ 262   │\n",
              "└────────────────┴───────┘"
            ],
            "text/html": [
              "<div><style>\n",
              ".dataframe > thead > tr,\n",
              ".dataframe > tbody > tr {\n",
              "  text-align: right;\n",
              "  white-space: pre-wrap;\n",
              "}\n",
              "</style>\n",
              "<small>shape: (5, 2)</small><table border=\"1\" class=\"dataframe\"><thead><tr><th>race/ethnicity</th><th>count</th></tr><tr><td>str</td><td>u32</td></tr></thead><tbody><tr><td>&quot;group A&quot;</td><td>89</td></tr><tr><td>&quot;group B&quot;</td><td>190</td></tr><tr><td>&quot;group C&quot;</td><td>319</td></tr><tr><td>&quot;group E&quot;</td><td>140</td></tr><tr><td>&quot;group D&quot;</td><td>262</td></tr></tbody></table></div>"
            ]
          },
          "metadata": {},
          "execution_count": 21
        }
      ]
    },
    {
      "cell_type": "code",
      "source": [
        "cleaned_df = df.drop_nulls()"
      ],
      "metadata": {
        "id": "WgfEsFO7yOVV"
      },
      "execution_count": 23,
      "outputs": []
    },
    {
      "cell_type": "code",
      "source": [
        "df2 = pl.read_csv('LanguageScore.csv')\n",
        "\n",
        "joined_df = df.join(df2, on='id')\n",
        "\n",
        "joined_df"
      ],
      "metadata": {
        "colab": {
          "base_uri": "https://localhost:8080/",
          "height": 671
        },
        "id": "O5c3JbpsyyW9",
        "outputId": "f6cd4e86-504e-4909-d599-fc135741023f"
      },
      "execution_count": 25,
      "outputs": [
        {
          "output_type": "execute_result",
          "data": {
            "text/plain": [
              "shape: (100, 10)\n",
              "┌─────┬────────┬─────────────────┬─────────────────┬───┬────────────┬─────────┬─────────┬──────────┐\n",
              "│ id  ┆ gender ┆ race/ethnicity  ┆ parental level  ┆ … ┆ math score ┆ reading ┆ writing ┆ language │\n",
              "│ --- ┆ ---    ┆ ---             ┆ of education    ┆   ┆ ---        ┆ score   ┆ score   ┆ score    │\n",
              "│ i64 ┆ str    ┆ str             ┆ ---             ┆   ┆ i64        ┆ ---     ┆ ---     ┆ ---      │\n",
              "│     ┆        ┆                 ┆ str             ┆   ┆            ┆ i64     ┆ i64     ┆ i64      │\n",
              "╞═════╪════════╪═════════════════╪═════════════════╪═══╪════════════╪═════════╪═════════╪══════════╡\n",
              "│ 1   ┆ female ┆ group B         ┆ bachelor's      ┆ … ┆ 72         ┆ 72      ┆ 74      ┆ 74       │\n",
              "│     ┆        ┆                 ┆ degree          ┆   ┆            ┆         ┆         ┆          │\n",
              "│ 2   ┆ female ┆ group C         ┆ some college    ┆ … ┆ 69         ┆ 90      ┆ 88      ┆ 67       │\n",
              "│ 3   ┆ female ┆ group B         ┆ master's degree ┆ … ┆ 90         ┆ 95      ┆ 93      ┆ 34       │\n",
              "│ 4   ┆ male   ┆ group A         ┆ associate's     ┆ … ┆ 47         ┆ 57      ┆ 44      ┆ 33       │\n",
              "│     ┆        ┆                 ┆ degree          ┆   ┆            ┆         ┆         ┆          │\n",
              "│ 5   ┆ male   ┆ group C         ┆ some college    ┆ … ┆ 76         ┆ 78      ┆ 75      ┆ 75       │\n",
              "│ …   ┆ …      ┆ …               ┆ …               ┆ … ┆ …          ┆ …       ┆ …       ┆ …        │\n",
              "│ 96  ┆ male   ┆ group C         ┆ associate's     ┆ … ┆ 78         ┆ 81      ┆ 82      ┆ 67       │\n",
              "│     ┆        ┆                 ┆ degree          ┆   ┆            ┆         ┆         ┆          │\n",
              "│ 97  ┆ male   ┆ group B         ┆ some high       ┆ … ┆ 65         ┆ 66      ┆ 62      ┆ 87       │\n",
              "│     ┆        ┆                 ┆ school          ┆   ┆            ┆         ┆         ┆          │\n",
              "│ 98  ┆ female ┆ group E         ┆ some college    ┆ … ┆ 63         ┆ 72      ┆ 70      ┆ 66       │\n",
              "│ 99  ┆ female ┆ group D         ┆ some college    ┆ … ┆ 58         ┆ 67      ┆ 62      ┆ 94       │\n",
              "│ 100 ┆ female ┆ group D         ┆ bachelor's      ┆ … ┆ 65         ┆ 67      ┆ 62      ┆ 75       │\n",
              "│     ┆        ┆                 ┆ degree          ┆   ┆            ┆         ┆         ┆          │\n",
              "└─────┴────────┴─────────────────┴─────────────────┴───┴────────────┴─────────┴─────────┴──────────┘"
            ],
            "text/html": [
              "<div><style>\n",
              ".dataframe > thead > tr,\n",
              ".dataframe > tbody > tr {\n",
              "  text-align: right;\n",
              "  white-space: pre-wrap;\n",
              "}\n",
              "</style>\n",
              "<small>shape: (100, 10)</small><table border=\"1\" class=\"dataframe\"><thead><tr><th>id</th><th>gender</th><th>race/ethnicity</th><th>parental level of education</th><th>lunch</th><th>test preparation course</th><th>math score</th><th>reading score</th><th>writing score</th><th>language score</th></tr><tr><td>i64</td><td>str</td><td>str</td><td>str</td><td>str</td><td>str</td><td>i64</td><td>i64</td><td>i64</td><td>i64</td></tr></thead><tbody><tr><td>1</td><td>&quot;female&quot;</td><td>&quot;group B&quot;</td><td>&quot;bachelor&#x27;s degree&quot;</td><td>&quot;standard&quot;</td><td>&quot;none&quot;</td><td>72</td><td>72</td><td>74</td><td>74</td></tr><tr><td>2</td><td>&quot;female&quot;</td><td>&quot;group C&quot;</td><td>&quot;some college&quot;</td><td>&quot;standard&quot;</td><td>&quot;completed&quot;</td><td>69</td><td>90</td><td>88</td><td>67</td></tr><tr><td>3</td><td>&quot;female&quot;</td><td>&quot;group B&quot;</td><td>&quot;master&#x27;s degree&quot;</td><td>&quot;standard&quot;</td><td>&quot;none&quot;</td><td>90</td><td>95</td><td>93</td><td>34</td></tr><tr><td>4</td><td>&quot;male&quot;</td><td>&quot;group A&quot;</td><td>&quot;associate&#x27;s degree&quot;</td><td>&quot;free/reduced&quot;</td><td>&quot;none&quot;</td><td>47</td><td>57</td><td>44</td><td>33</td></tr><tr><td>5</td><td>&quot;male&quot;</td><td>&quot;group C&quot;</td><td>&quot;some college&quot;</td><td>&quot;standard&quot;</td><td>&quot;none&quot;</td><td>76</td><td>78</td><td>75</td><td>75</td></tr><tr><td>&hellip;</td><td>&hellip;</td><td>&hellip;</td><td>&hellip;</td><td>&hellip;</td><td>&hellip;</td><td>&hellip;</td><td>&hellip;</td><td>&hellip;</td><td>&hellip;</td></tr><tr><td>96</td><td>&quot;male&quot;</td><td>&quot;group C&quot;</td><td>&quot;associate&#x27;s degree&quot;</td><td>&quot;free/reduced&quot;</td><td>&quot;completed&quot;</td><td>78</td><td>81</td><td>82</td><td>67</td></tr><tr><td>97</td><td>&quot;male&quot;</td><td>&quot;group B&quot;</td><td>&quot;some high school&quot;</td><td>&quot;standard&quot;</td><td>&quot;completed&quot;</td><td>65</td><td>66</td><td>62</td><td>87</td></tr><tr><td>98</td><td>&quot;female&quot;</td><td>&quot;group E&quot;</td><td>&quot;some college&quot;</td><td>&quot;standard&quot;</td><td>&quot;completed&quot;</td><td>63</td><td>72</td><td>70</td><td>66</td></tr><tr><td>99</td><td>&quot;female&quot;</td><td>&quot;group D&quot;</td><td>&quot;some college&quot;</td><td>&quot;free/reduced&quot;</td><td>&quot;none&quot;</td><td>58</td><td>67</td><td>62</td><td>94</td></tr><tr><td>100</td><td>&quot;female&quot;</td><td>&quot;group D&quot;</td><td>&quot;bachelor&#x27;s degree&quot;</td><td>&quot;standard&quot;</td><td>&quot;none&quot;</td><td>65</td><td>67</td><td>62</td><td>75</td></tr></tbody></table></div>"
            ]
          },
          "metadata": {},
          "execution_count": 25
        }
      ]
    },
    {
      "cell_type": "code",
      "source": [],
      "metadata": {
        "id": "BrKoID-HzIlr"
      },
      "execution_count": null,
      "outputs": []
    }
  ]
}